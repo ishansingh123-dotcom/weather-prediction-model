{
  "cells": [
    {
      "cell_type": "code",
      "execution_count": null,
      "metadata": {
        "colab": {
          "base_uri": "https://localhost:8080/"
        },
        "id": "0nhVZ38x6-G4",
        "outputId": "f6db9423-49e4-4709-ecd4-0852b1792f51"
      },
      "outputs": [
        {
          "name": "stdout",
          "output_type": "stream",
          "text": [
            "📚 Welcome to the Flashcard Generator\n",
            "Paste your educational content below (minimum 5 lines):\n",
            "\n",
            "Paste content (type END on a new line to finish):\n"
          ]
        }
      ],
      "source": [
        "\n",
        "\n",
        "print(\"📚 Welcome to the Flashcard Generator\")\n",
        "print(\"Paste your educational content below (minimum 5 lines):\\n\")\n",
        "\n",
        "\n",
        "content = \"\"\n",
        "print(\"Paste content (type END on a new line to finish):\")\n",
        "while True:\n",
        "    line = input()\n",
        "    if line.strip().upper() == \"END\":\n",
        "        break\n",
        "    content += line + \"\\n\"\n",
        "\n",
        "sentences = [s.strip() for s in content.split('.') if len(s.strip()) > 20]\n",
        "\n",
        "flashcards = []\n",
        "for i, sentence in enumerate(sentences[:15]):\n",
        "    question = f\"Q{i+1}: What is discussed in the following sentence?\\n'{sentence}...'\"\n",
        "    answer = f\"A{i+1}: {sentence}.\"\n",
        "    flashcards.append(f\"{question}\\n{answer}\\n---\")\n",
        "\n",
        "print(\"\\n✅ Generated Flashcards:\\n\")\n",
        "for card in flashcards:\n",
        "    print(card)\n",
        "\n",
        "with open(\"flashcards.txt\", \"w\", encoding=\"utf-8\") as f:\n",
        "    for card in flashcards:\n",
        "        f.write(card + \"\\n\")\n",
        "\n",
        "print(\"\\n📁 Flashcards saved as 'flashcards.txt'. Use File → Download to save.\")\n"
      ]
    }
  ],
  "metadata": {
    "colab": {
      "provenance": []
    },
    "kernelspec": {
      "display_name": "Python 3",
      "name": "python3"
    },
    "language_info": {
      "name": "python"
    }
  },
  "nbformat": 4,
  "nbformat_minor": 0
}
